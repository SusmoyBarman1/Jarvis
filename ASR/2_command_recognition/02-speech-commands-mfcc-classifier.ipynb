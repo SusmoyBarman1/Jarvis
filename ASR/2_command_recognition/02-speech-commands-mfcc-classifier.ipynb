{
 "cells": [
  {
   "cell_type": "code",
   "execution_count": 1,
   "metadata": {},
   "outputs": [],
   "source": [
    "from os import listdir\n",
    "from os.path import isdir, join\n",
    "from tensorflow.keras import datasets, layers, models\n",
    "import numpy as np\n",
    "\n",
    "import tensorflow as tf\n",
    "import matplotlib.pyplot as plt\n",
    "\n",
    "import python_speech_features"
   ]
  },
  {
   "cell_type": "code",
   "execution_count": 2,
   "metadata": {},
   "outputs": [
    {
     "name": "stdout",
     "output_type": "stream",
     "text": [
      "['go', 'stop']\n"
     ]
    }
   ],
   "source": [
    "# Create list of all targets (minus background noise)\n",
    "dataset_path = 'C:\\\\Users\\\\SuSu\\\\Desktop\\\\asr\\\\data'\n",
    "all_targets = all_targets = [name for name in listdir(dataset_path) if isdir(join(dataset_path, name))]\n",
    "\n",
    "print(all_targets)"
   ]
  },
  {
   "cell_type": "code",
   "execution_count": 3,
   "metadata": {},
   "outputs": [],
   "source": [
    "# Settings\n",
    "feature_sets_path = 'C:\\\\Users\\\\SuSu\\\\Desktop\\\\asr'\n",
    "feature_sets_filename = 'all_targets_mfcc_sets.npz'\n",
    "model_filename = 'wake_word_stop_model.h5'\n",
    "wake_word = 'stop'"
   ]
  },
  {
   "cell_type": "code",
   "execution_count": 4,
   "metadata": {},
   "outputs": [
    {
     "name": "stdout",
     "output_type": "stream",
     "text": [
      "['x_train', 'y_train', 'x_val', 'y_val', 'x_test', 'y_test']\n"
     ]
    }
   ],
   "source": [
    "# Load feature sets\n",
    "feature_sets = np.load(join(feature_sets_path, feature_sets_filename))\n",
    "print(feature_sets.files)"
   ]
  },
  {
   "cell_type": "code",
   "execution_count": 5,
   "metadata": {},
   "outputs": [],
   "source": [
    "# Assign feature sets\n",
    "x_train = feature_sets['x_train']\n",
    "y_train = feature_sets['y_train']\n",
    "x_val = feature_sets['x_val']\n",
    "y_val = feature_sets['y_val']\n",
    "x_test = feature_sets['x_test']\n",
    "y_test = feature_sets['y_test']"
   ]
  },
  {
   "cell_type": "code",
   "execution_count": 6,
   "metadata": {},
   "outputs": [
    {
     "name": "stdout",
     "output_type": "stream",
     "text": [
      "(5710, 16, 16)\n",
      "(703, 16, 16)\n",
      "(717, 16, 16)\n"
     ]
    }
   ],
   "source": [
    "# Look at tensor dimensions\n",
    "print(x_train.shape)\n",
    "print(x_val.shape)\n",
    "print(x_test.shape)"
   ]
  },
  {
   "cell_type": "code",
   "execution_count": 7,
   "metadata": {},
   "outputs": [
    {
     "name": "stdout",
     "output_type": "stream",
     "text": [
      "[1. 0. 0. 0. 1. 1. 1. 1. 0. 1. 1. 1. 0. 0. 0. 1. 0. 1. 0. 0. 1. 1. 1. 1.\n",
      " 0. 0. 0. 1. 0. 0. 0. 0. 0. 0. 1. 0. 1. 0. 1. 1. 0. 1. 0. 0. 1. 1. 1. 1.\n",
      " 0. 0. 0. 0. 0. 0. 1. 1. 1. 0. 0. 0. 0. 0. 0. 1. 0. 1. 0. 0. 0. 0. 1. 0.\n",
      " 0. 1. 1. 1. 0. 0. 0. 1. 0. 0. 0. 0. 1. 1. 1. 0. 0. 0. 1. 1. 0. 1. 0. 0.\n",
      " 0. 0. 1. 1. 1. 1. 1. 1. 1. 1. 0. 0. 1. 0. 1. 1. 0. 0. 0. 0. 1. 0. 0. 0.\n",
      " 1. 0. 1. 0. 0. 0. 0. 0. 1. 1. 1. 1. 0. 1. 0. 0. 1. 0. 1. 1. 1. 1. 1. 0.\n",
      " 0. 1. 0. 0. 0. 1. 0. 1. 0. 0. 0. 1. 0. 0. 1. 1. 1. 0. 0. 1. 1. 1. 1. 0.\n",
      " 1. 0. 1. 1. 0. 1. 0. 0. 0. 0. 0. 1. 1. 0. 0. 0. 1. 1. 1. 0. 1. 1. 1. 1.\n",
      " 1. 1. 0. 1. 1. 0. 0. 0. 1. 1. 1. 1. 0. 0. 0. 0. 1. 1. 0. 1. 1. 0. 1. 1.\n",
      " 0. 1. 0. 1. 0. 0. 1. 0. 0. 0. 0. 1. 1. 1. 0. 1. 0. 1. 1. 1. 1. 1. 0. 0.\n",
      " 0. 1. 1. 0. 1. 1. 0. 0. 0. 1. 1. 1. 1. 1. 1. 1. 1. 1. 0. 1. 1. 1. 0. 1.\n",
      " 0. 0. 1. 1. 0. 0. 0. 1. 0. 0. 0. 1. 1. 1. 1. 1. 0. 0. 0. 1. 1. 0. 0. 0.\n",
      " 0. 0. 1. 0. 1. 1. 0. 0. 1. 0. 1. 0. 0. 1. 0. 1. 1. 1. 0. 1. 1. 1. 1. 0.\n",
      " 0. 1. 1. 0. 0. 0. 1. 0. 0. 1. 0. 1. 0. 1. 0. 1. 0. 1. 1. 0. 1. 1. 0. 1.\n",
      " 1. 1. 0. 1. 1. 1. 0. 0. 1. 0. 1. 0. 1. 1. 0. 1. 0. 0. 1. 0. 1. 0. 0. 0.\n",
      " 1. 0. 1. 0. 0. 0. 0. 0. 0. 0. 1. 0. 0. 1. 1. 0. 1. 0. 1. 0. 1. 0. 1. 1.\n",
      " 1. 1. 0. 1. 0. 1. 1. 0. 0. 1. 0. 0. 1. 1. 1. 0. 0. 1. 0. 0. 0. 1. 0. 1.\n",
      " 1. 1. 1. 0. 1. 0. 0. 1. 1. 0. 0. 1. 1. 1. 0. 1. 0. 1. 1. 1. 0. 1. 1. 1.\n",
      " 1. 1. 0. 0. 1. 1. 1. 0. 1. 0. 0. 1. 0. 0. 1. 1. 1. 1. 0. 0. 1. 1. 0. 0.\n",
      " 1. 1. 1. 0. 0. 1. 1. 0. 1. 0. 0. 1. 1. 0. 1. 1. 0. 0. 0. 1. 0. 0. 1. 0.\n",
      " 0. 0. 0. 0. 1. 0. 1. 0. 1. 1. 0. 1. 1. 1. 1. 0. 1. 0. 0. 1. 1. 1. 0. 0.\n",
      " 1. 0. 0. 1. 0. 0. 0. 0. 0. 1. 0. 0. 0. 1. 1. 1. 1. 1. 1. 0. 0. 1. 0. 0.\n",
      " 1. 1. 1. 0. 1. 0. 0. 0. 0. 0. 1. 0. 1. 1. 1. 1. 1. 1. 1. 0. 0. 0. 1. 0.\n",
      " 0. 1. 0. 0. 0. 1. 1. 1. 1. 1. 0. 1. 0. 1. 1. 0. 1. 0. 1. 0. 0. 0. 0. 0.\n",
      " 1. 1. 1. 1. 1. 0. 0. 1. 0. 1. 0. 1. 1. 0. 0. 0. 0. 0. 1. 1. 1. 1. 0. 0.\n",
      " 1. 0. 1. 0. 0. 0. 1. 0. 0. 0. 0. 0. 0. 0. 1. 0. 1. 0. 1. 0. 1. 1. 1. 0.\n",
      " 1. 0. 1. 1. 1. 1. 0. 0. 1. 1. 0. 0. 1. 0. 0. 0. 1. 1. 1. 1. 0. 1. 1. 0.\n",
      " 0. 1. 0. 1. 0. 0. 1. 1. 0. 1. 1. 1. 1. 1. 0. 0. 1. 1. 0. 0. 1. 0. 0. 1.\n",
      " 1. 0. 0. 0. 0. 1. 1. 0. 1. 1. 0. 0. 0. 1. 1. 1. 0. 1. 0. 1. 0. 1. 1. 0.\n",
      " 0. 0. 0. 0. 0. 1. 1.]\n"
     ]
    }
   ],
   "source": [
    "# Peek at labels\n",
    "print(y_val)"
   ]
  },
  {
   "cell_type": "code",
   "execution_count": 8,
   "metadata": {},
   "outputs": [],
   "source": [
    "# Convert ground truth arrays to one wake word (1) and 'other' (0)\n",
    "wake_word_index = all_targets.index(wake_word)\n",
    "y_train = np.equal(y_train, wake_word_index).astype('float64')\n",
    "y_val = np.equal(y_val, wake_word_index).astype('float64')\n",
    "y_test = np.equal(y_test, wake_word_index).astype('float64')"
   ]
  },
  {
   "cell_type": "code",
   "execution_count": 9,
   "metadata": {},
   "outputs": [
    {
     "name": "stdout",
     "output_type": "stream",
     "text": [
      "[1. 0. 0. 0. 1. 1. 1. 1. 0. 1. 1. 1. 0. 0. 0. 1. 0. 1. 0. 0. 1. 1. 1. 1.\n",
      " 0. 0. 0. 1. 0. 0. 0. 0. 0. 0. 1. 0. 1. 0. 1. 1. 0. 1. 0. 0. 1. 1. 1. 1.\n",
      " 0. 0. 0. 0. 0. 0. 1. 1. 1. 0. 0. 0. 0. 0. 0. 1. 0. 1. 0. 0. 0. 0. 1. 0.\n",
      " 0. 1. 1. 1. 0. 0. 0. 1. 0. 0. 0. 0. 1. 1. 1. 0. 0. 0. 1. 1. 0. 1. 0. 0.\n",
      " 0. 0. 1. 1. 1. 1. 1. 1. 1. 1. 0. 0. 1. 0. 1. 1. 0. 0. 0. 0. 1. 0. 0. 0.\n",
      " 1. 0. 1. 0. 0. 0. 0. 0. 1. 1. 1. 1. 0. 1. 0. 0. 1. 0. 1. 1. 1. 1. 1. 0.\n",
      " 0. 1. 0. 0. 0. 1. 0. 1. 0. 0. 0. 1. 0. 0. 1. 1. 1. 0. 0. 1. 1. 1. 1. 0.\n",
      " 1. 0. 1. 1. 0. 1. 0. 0. 0. 0. 0. 1. 1. 0. 0. 0. 1. 1. 1. 0. 1. 1. 1. 1.\n",
      " 1. 1. 0. 1. 1. 0. 0. 0. 1. 1. 1. 1. 0. 0. 0. 0. 1. 1. 0. 1. 1. 0. 1. 1.\n",
      " 0. 1. 0. 1. 0. 0. 1. 0. 0. 0. 0. 1. 1. 1. 0. 1. 0. 1. 1. 1. 1. 1. 0. 0.\n",
      " 0. 1. 1. 0. 1. 1. 0. 0. 0. 1. 1. 1. 1. 1. 1. 1. 1. 1. 0. 1. 1. 1. 0. 1.\n",
      " 0. 0. 1. 1. 0. 0. 0. 1. 0. 0. 0. 1. 1. 1. 1. 1. 0. 0. 0. 1. 1. 0. 0. 0.\n",
      " 0. 0. 1. 0. 1. 1. 0. 0. 1. 0. 1. 0. 0. 1. 0. 1. 1. 1. 0. 1. 1. 1. 1. 0.\n",
      " 0. 1. 1. 0. 0. 0. 1. 0. 0. 1. 0. 1. 0. 1. 0. 1. 0. 1. 1. 0. 1. 1. 0. 1.\n",
      " 1. 1. 0. 1. 1. 1. 0. 0. 1. 0. 1. 0. 1. 1. 0. 1. 0. 0. 1. 0. 1. 0. 0. 0.\n",
      " 1. 0. 1. 0. 0. 0. 0. 0. 0. 0. 1. 0. 0. 1. 1. 0. 1. 0. 1. 0. 1. 0. 1. 1.\n",
      " 1. 1. 0. 1. 0. 1. 1. 0. 0. 1. 0. 0. 1. 1. 1. 0. 0. 1. 0. 0. 0. 1. 0. 1.\n",
      " 1. 1. 1. 0. 1. 0. 0. 1. 1. 0. 0. 1. 1. 1. 0. 1. 0. 1. 1. 1. 0. 1. 1. 1.\n",
      " 1. 1. 0. 0. 1. 1. 1. 0. 1. 0. 0. 1. 0. 0. 1. 1. 1. 1. 0. 0. 1. 1. 0. 0.\n",
      " 1. 1. 1. 0. 0. 1. 1. 0. 1. 0. 0. 1. 1. 0. 1. 1. 0. 0. 0. 1. 0. 0. 1. 0.\n",
      " 0. 0. 0. 0. 1. 0. 1. 0. 1. 1. 0. 1. 1. 1. 1. 0. 1. 0. 0. 1. 1. 1. 0. 0.\n",
      " 1. 0. 0. 1. 0. 0. 0. 0. 0. 1. 0. 0. 0. 1. 1. 1. 1. 1. 1. 0. 0. 1. 0. 0.\n",
      " 1. 1. 1. 0. 1. 0. 0. 0. 0. 0. 1. 0. 1. 1. 1. 1. 1. 1. 1. 0. 0. 0. 1. 0.\n",
      " 0. 1. 0. 0. 0. 1. 1. 1. 1. 1. 0. 1. 0. 1. 1. 0. 1. 0. 1. 0. 0. 0. 0. 0.\n",
      " 1. 1. 1. 1. 1. 0. 0. 1. 0. 1. 0. 1. 1. 0. 0. 0. 0. 0. 1. 1. 1. 1. 0. 0.\n",
      " 1. 0. 1. 0. 0. 0. 1. 0. 0. 0. 0. 0. 0. 0. 1. 0. 1. 0. 1. 0. 1. 1. 1. 0.\n",
      " 1. 0. 1. 1. 1. 1. 0. 0. 1. 1. 0. 0. 1. 0. 0. 0. 1. 1. 1. 1. 0. 1. 1. 0.\n",
      " 0. 1. 0. 1. 0. 0. 1. 1. 0. 1. 1. 1. 1. 1. 0. 0. 1. 1. 0. 0. 1. 0. 0. 1.\n",
      " 1. 0. 0. 0. 0. 1. 1. 0. 1. 1. 0. 0. 0. 1. 1. 1. 0. 1. 0. 1. 0. 1. 1. 0.\n",
      " 0. 0. 0. 0. 0. 1. 1.]\n"
     ]
    }
   ],
   "source": [
    "# Peek at labels after conversion\n",
    "print(y_val)"
   ]
  },
  {
   "cell_type": "code",
   "execution_count": 10,
   "metadata": {},
   "outputs": [
    {
     "name": "stdout",
     "output_type": "stream",
     "text": [
      "0.4992887624466572\n",
      "0.5007112375533428\n"
     ]
    }
   ],
   "source": [
    "# What percentage of 'stop' appear in validation labels\n",
    "print(sum(y_val) / len(y_val))\n",
    "print(1 - sum(y_val) / len(y_val))"
   ]
  },
  {
   "cell_type": "code",
   "execution_count": 11,
   "metadata": {},
   "outputs": [
    {
     "name": "stdout",
     "output_type": "stream",
     "text": [
      "(5710, 16, 16)\n"
     ]
    }
   ],
   "source": [
    "# View the dimensions of our input data\n",
    "print(x_train.shape)"
   ]
  },
  {
   "cell_type": "code",
   "execution_count": 12,
   "metadata": {},
   "outputs": [
    {
     "name": "stdout",
     "output_type": "stream",
     "text": [
      "(5710, 16, 16, 1)\n",
      "(703, 16, 16, 1)\n",
      "(717, 16, 16, 1)\n"
     ]
    }
   ],
   "source": [
    "# CNN for TF expects (batch, height, width, channels)\n",
    "# So we reshape the input tensors with a \"color\" channel of 1\n",
    "x_train = x_train.reshape(x_train.shape[0], \n",
    "                          x_train.shape[1], \n",
    "                          x_train.shape[2], \n",
    "                          1)\n",
    "x_val = x_val.reshape(x_val.shape[0], \n",
    "                      x_val.shape[1], \n",
    "                      x_val.shape[2], \n",
    "                      1)\n",
    "x_test = x_test.reshape(x_test.shape[0], \n",
    "                        x_test.shape[1], \n",
    "                        x_test.shape[2], \n",
    "                        1)\n",
    "print(x_train.shape)\n",
    "print(x_val.shape)\n",
    "print(x_test.shape)"
   ]
  },
  {
   "cell_type": "code",
   "execution_count": 13,
   "metadata": {},
   "outputs": [
    {
     "name": "stdout",
     "output_type": "stream",
     "text": [
      "(16, 16, 1)\n"
     ]
    }
   ],
   "source": [
    "# Input shape for CNN is size of MFCC of 1 sample\n",
    "sample_shape = x_test.shape[1:]\n",
    "print(sample_shape)"
   ]
  },
  {
   "cell_type": "code",
   "execution_count": 14,
   "metadata": {},
   "outputs": [
    {
     "name": "stdout",
     "output_type": "stream",
     "text": [
      "WARNING:tensorflow:From C:\\Users\\SuSu\\Anaconda3\\envs\\jarvis\\lib\\site-packages\\tensorflow_core\\python\\ops\\resource_variable_ops.py:1630: calling BaseResourceVariable.__init__ (from tensorflow.python.ops.resource_variable_ops) with constraint is deprecated and will be removed in a future version.\n",
      "Instructions for updating:\n",
      "If using Keras pass *_constraint arguments to layers.\n"
     ]
    }
   ],
   "source": [
    "# Build model\n",
    "\n",
    "model = models.Sequential()\n",
    "model.add(layers.Conv2D(32, \n",
    "                        (2, 2), \n",
    "                        activation='relu',\n",
    "                        input_shape=sample_shape))\n",
    "model.add(layers.MaxPooling2D(pool_size=(2, 2)))\n",
    "\n",
    "model.add(layers.Conv2D(32, (2, 2), activation='relu'))\n",
    "model.add(layers.MaxPooling2D(pool_size=(2, 2)))\n",
    "\n",
    "model.add(layers.Conv2D(64, (2, 2), activation='relu'))\n",
    "model.add(layers.MaxPooling2D(pool_size=(2, 2)))\n",
    "\n",
    "# Classifier\n",
    "model.add(layers.Flatten())\n",
    "model.add(layers.Dense(64, activation='relu'))\n",
    "model.add(layers.Dropout(0.5))\n",
    "model.add(layers.Dense(1, activation='sigmoid'))"
   ]
  },
  {
   "cell_type": "code",
   "execution_count": 15,
   "metadata": {},
   "outputs": [
    {
     "name": "stdout",
     "output_type": "stream",
     "text": [
      "Model: \"sequential\"\n",
      "_________________________________________________________________\n",
      "Layer (type)                 Output Shape              Param #   \n",
      "=================================================================\n",
      "conv2d (Conv2D)              (None, 15, 15, 32)        160       \n",
      "_________________________________________________________________\n",
      "max_pooling2d (MaxPooling2D) (None, 7, 7, 32)          0         \n",
      "_________________________________________________________________\n",
      "conv2d_1 (Conv2D)            (None, 6, 6, 32)          4128      \n",
      "_________________________________________________________________\n",
      "max_pooling2d_1 (MaxPooling2 (None, 3, 3, 32)          0         \n",
      "_________________________________________________________________\n",
      "conv2d_2 (Conv2D)            (None, 2, 2, 64)          8256      \n",
      "_________________________________________________________________\n",
      "max_pooling2d_2 (MaxPooling2 (None, 1, 1, 64)          0         \n",
      "_________________________________________________________________\n",
      "flatten (Flatten)            (None, 64)                0         \n",
      "_________________________________________________________________\n",
      "dense (Dense)                (None, 64)                4160      \n",
      "_________________________________________________________________\n",
      "dropout (Dropout)            (None, 64)                0         \n",
      "_________________________________________________________________\n",
      "dense_1 (Dense)              (None, 1)                 65        \n",
      "=================================================================\n",
      "Total params: 16,769\n",
      "Trainable params: 16,769\n",
      "Non-trainable params: 0\n",
      "_________________________________________________________________\n"
     ]
    }
   ],
   "source": [
    "# Display model\n",
    "model.summary()"
   ]
  },
  {
   "cell_type": "code",
   "execution_count": 16,
   "metadata": {},
   "outputs": [
    {
     "name": "stdout",
     "output_type": "stream",
     "text": [
      "WARNING:tensorflow:From C:\\Users\\SuSu\\Anaconda3\\envs\\jarvis\\lib\\site-packages\\tensorflow_core\\python\\ops\\nn_impl.py:183: where (from tensorflow.python.ops.array_ops) is deprecated and will be removed in a future version.\n",
      "Instructions for updating:\n",
      "Use tf.where in 2.0, which has the same broadcast rule as np.where\n"
     ]
    }
   ],
   "source": [
    "# Add training parameters to model\n",
    "model.compile(loss='binary_crossentropy', \n",
    "              optimizer='rmsprop', \n",
    "              metrics=['acc'])"
   ]
  },
  {
   "cell_type": "code",
   "execution_count": 17,
   "metadata": {},
   "outputs": [
    {
     "name": "stdout",
     "output_type": "stream",
     "text": [
      "Train on 5710 samples, validate on 703 samples\n",
      "Epoch 1/30\n",
      "5710/5710 [==============================] - 3s 473us/sample - loss: 0.5704 - acc: 0.7102 - val_loss: 0.4474 - val_acc: 0.8051\n",
      "Epoch 2/30\n",
      "5710/5710 [==============================] - 0s 38us/sample - loss: 0.3827 - acc: 0.8292 - val_loss: 0.4176 - val_acc: 0.7980\n",
      "Epoch 3/30\n",
      "5710/5710 [==============================] - 0s 39us/sample - loss: 0.3121 - acc: 0.8676 - val_loss: 0.4035 - val_acc: 0.8179\n",
      "Epoch 4/30\n",
      "5710/5710 [==============================] - 0s 38us/sample - loss: 0.2516 - acc: 0.8984 - val_loss: 0.2058 - val_acc: 0.9189\n",
      "Epoch 5/30\n",
      "5710/5710 [==============================] - 0s 38us/sample - loss: 0.2177 - acc: 0.9086 - val_loss: 0.1786 - val_acc: 0.9260\n",
      "Epoch 6/30\n",
      "5710/5710 [==============================] - 0s 38us/sample - loss: 0.1976 - acc: 0.9242 - val_loss: 0.2490 - val_acc: 0.8933\n",
      "Epoch 7/30\n",
      "5710/5710 [==============================] - 0s 39us/sample - loss: 0.1712 - acc: 0.9331 - val_loss: 0.2288 - val_acc: 0.9090\n",
      "Epoch 8/30\n",
      "5710/5710 [==============================] - 0s 38us/sample - loss: 0.1687 - acc: 0.9338 - val_loss: 0.1720 - val_acc: 0.9346\n",
      "Epoch 9/30\n",
      "5710/5710 [==============================] - 0s 38us/sample - loss: 0.1572 - acc: 0.9408 - val_loss: 0.1595 - val_acc: 0.9346\n",
      "Epoch 10/30\n",
      "5710/5710 [==============================] - 0s 38us/sample - loss: 0.1357 - acc: 0.9473 - val_loss: 0.4126 - val_acc: 0.8535\n",
      "Epoch 11/30\n",
      "5710/5710 [==============================] - 0s 38us/sample - loss: 0.1280 - acc: 0.9485 - val_loss: 0.1894 - val_acc: 0.9175\n",
      "Epoch 12/30\n",
      "5710/5710 [==============================] - 0s 38us/sample - loss: 0.1209 - acc: 0.9545 - val_loss: 0.1621 - val_acc: 0.9331\n",
      "Epoch 13/30\n",
      "5710/5710 [==============================] - 0s 38us/sample - loss: 0.1145 - acc: 0.9571 - val_loss: 0.1262 - val_acc: 0.9545\n",
      "Epoch 14/30\n",
      "5710/5710 [==============================] - 0s 38us/sample - loss: 0.0990 - acc: 0.9609 - val_loss: 0.1279 - val_acc: 0.9531\n",
      "Epoch 15/30\n",
      "5710/5710 [==============================] - 0s 38us/sample - loss: 0.1009 - acc: 0.9625 - val_loss: 0.1230 - val_acc: 0.9559\n",
      "Epoch 16/30\n",
      "5710/5710 [==============================] - 0s 38us/sample - loss: 0.0937 - acc: 0.9662 - val_loss: 0.1523 - val_acc: 0.9502\n",
      "Epoch 17/30\n",
      "5710/5710 [==============================] - 0s 39us/sample - loss: 0.0870 - acc: 0.9673 - val_loss: 0.1745 - val_acc: 0.9388\n",
      "Epoch 18/30\n",
      "5710/5710 [==============================] - 0s 38us/sample - loss: 0.0831 - acc: 0.9702 - val_loss: 0.1774 - val_acc: 0.9360\n",
      "Epoch 19/30\n",
      "5710/5710 [==============================] - 0s 38us/sample - loss: 0.0845 - acc: 0.9697 - val_loss: 0.1113 - val_acc: 0.9559\n",
      "Epoch 20/30\n",
      "5710/5710 [==============================] - 0s 38us/sample - loss: 0.0718 - acc: 0.9739 - val_loss: 0.1436 - val_acc: 0.9346\n",
      "Epoch 21/30\n",
      "5710/5710 [==============================] - 0s 38us/sample - loss: 0.0738 - acc: 0.9750 - val_loss: 0.1339 - val_acc: 0.9488\n",
      "Epoch 22/30\n",
      "5710/5710 [==============================] - 0s 38us/sample - loss: 0.0626 - acc: 0.9757 - val_loss: 0.1045 - val_acc: 0.9630\n",
      "Epoch 23/30\n",
      "5710/5710 [==============================] - 0s 38us/sample - loss: 0.0600 - acc: 0.9800 - val_loss: 0.1363 - val_acc: 0.9531\n",
      "Epoch 24/30\n",
      "5710/5710 [==============================] - 0s 38us/sample - loss: 0.0596 - acc: 0.9772 - val_loss: 0.3272 - val_acc: 0.8976\n",
      "Epoch 25/30\n",
      "5710/5710 [==============================] - 0s 38us/sample - loss: 0.0549 - acc: 0.9813 - val_loss: 0.3438 - val_acc: 0.8919\n",
      "Epoch 26/30\n",
      "5710/5710 [==============================] - 0s 38us/sample - loss: 0.0517 - acc: 0.9821 - val_loss: 0.1231 - val_acc: 0.9616\n",
      "Epoch 27/30\n",
      "5710/5710 [==============================] - 0s 45us/sample - loss: 0.0454 - acc: 0.9848 - val_loss: 0.4769 - val_acc: 0.8578\n",
      "Epoch 28/30\n",
      "5710/5710 [==============================] - 0s 39us/sample - loss: 0.0436 - acc: 0.9853 - val_loss: 0.2937 - val_acc: 0.9104\n",
      "Epoch 29/30\n",
      "5710/5710 [==============================] - 0s 38us/sample - loss: 0.0437 - acc: 0.9837 - val_loss: 0.1398 - val_acc: 0.9559\n",
      "Epoch 30/30\n",
      "5710/5710 [==============================] - 0s 38us/sample - loss: 0.0327 - acc: 0.9884 - val_loss: 0.1186 - val_acc: 0.9559\n"
     ]
    }
   ],
   "source": [
    "# Train\n",
    "history = model.fit(x_train, \n",
    "                    y_train, \n",
    "                    epochs=30, \n",
    "                    batch_size=100, \n",
    "                    validation_data=(x_val, y_val))"
   ]
  },
  {
   "cell_type": "code",
   "execution_count": 18,
   "metadata": {},
   "outputs": [
    {
     "data": {
      "image/png": "[encoded data removed]",
      "text/plain": [
       "<Figure size 432x288 with 1 Axes>"
      ]
     },
     "metadata": {
      "needs_background": "light"
     },
     "output_type": "display_data"
    },
    {
     "data": {
      "image/png": "[encoded data removed]",
      "text/plain": [
       "<Figure size 432x288 with 1 Axes>"
      ]
     },
     "metadata": {
      "needs_background": "light"
     },
     "output_type": "display_data"
    }
   ],
   "source": [
    "# Plot results\n",
    "import matplotlib.pyplot as plt\n",
    "\n",
    "acc = history.history['acc']\n",
    "val_acc = history.history['val_acc']\n",
    "loss = history.history['loss']\n",
    "val_loss = history.history['val_loss']\n",
    "\n",
    "epochs = range(1, len(acc) + 1)\n",
    "\n",
    "plt.plot(epochs, acc, 'bo', label='Training acc')\n",
    "plt.plot(epochs, val_acc, 'b', label='Validation acc')\n",
    "plt.title('Training and validation accuracy')\n",
    "plt.legend()\n",
    "\n",
    "plt.figure()\n",
    "\n",
    "plt.plot(epochs, loss, 'bo', label='Training loss')\n",
    "plt.plot(epochs, val_loss, 'b', label='Validation loss')\n",
    "plt.title('Training and validation loss')\n",
    "plt.legend()\n",
    "\n",
    "plt.show()"
   ]
  },
  {
   "cell_type": "code",
   "execution_count": 19,
   "metadata": {},
   "outputs": [],
   "source": [
    "# Save the model as a file\n",
    "models.save_model(model, model_filename)"
   ]
  },
  {
   "cell_type": "code",
   "execution_count": 20,
   "metadata": {},
   "outputs": [
    {
     "name": "stdout",
     "output_type": "stream",
     "text": [
      "0\n",
      "1\n",
      "2\n",
      "3\n",
      "6\n",
      "7\n",
      "8\n",
      "11\n",
      "12\n",
      "14\n",
      "17\n",
      "18\n",
      "20\n",
      "21\n",
      "24\n",
      "25\n",
      "26\n",
      "29\n",
      "31\n",
      "32\n",
      "33\n",
      "35\n",
      "36\n",
      "37\n",
      "40\n",
      "41\n",
      "42\n",
      "43\n",
      "44\n",
      "46\n",
      "49\n",
      "53\n",
      "54\n",
      "60\n",
      "61\n",
      "62\n",
      "64\n",
      "69\n",
      "71\n",
      "72\n",
      "76\n",
      "77\n",
      "83\n",
      "86\n",
      "88\n",
      "91\n",
      "93\n",
      "94\n",
      "95\n",
      "96\n",
      "98\n",
      "99\n",
      "100\n",
      "104\n",
      "108\n",
      "110\n",
      "114\n",
      "116\n",
      "117\n",
      "118\n",
      "120\n",
      "123\n",
      "124\n",
      "125\n",
      "126\n",
      "127\n",
      "128\n",
      "130\n",
      "132\n",
      "135\n",
      "140\n",
      "143\n",
      "145\n",
      "146\n",
      "148\n",
      "149\n",
      "150\n",
      "151\n",
      "152\n",
      "154\n",
      "155\n",
      "157\n",
      "159\n",
      "164\n",
      "165\n",
      "166\n",
      "168\n",
      "171\n",
      "173\n",
      "174\n",
      "175\n",
      "177\n",
      "178\n",
      "179\n",
      "180\n",
      "184\n",
      "185\n",
      "188\n",
      "189\n",
      "190\n",
      "193\n",
      "196\n",
      "198\n",
      "201\n",
      "206\n",
      "207\n",
      "212\n",
      "215\n",
      "219\n",
      "221\n",
      "224\n",
      "225\n",
      "227\n",
      "228\n",
      "229\n",
      "230\n",
      "233\n",
      "236\n",
      "239\n",
      "241\n",
      "243\n",
      "246\n",
      "247\n",
      "248\n",
      "250\n",
      "254\n",
      "256\n",
      "267\n",
      "272\n",
      "273\n",
      "275\n",
      "284\n",
      "286\n",
      "287\n",
      "292\n",
      "293\n",
      "294\n",
      "295\n",
      "298\n",
      "300\n",
      "301\n",
      "305\n",
      "308\n",
      "310\n",
      "311\n",
      "312\n",
      "314\n",
      "315\n",
      "316\n",
      "317\n",
      "319\n",
      "321\n",
      "322\n",
      "323\n",
      "325\n",
      "327\n",
      "329\n",
      "332\n",
      "334\n",
      "336\n",
      "340\n",
      "346\n",
      "348\n",
      "352\n",
      "354\n",
      "355\n",
      "357\n",
      "358\n",
      "359\n",
      "360\n",
      "361\n",
      "364\n",
      "366\n",
      "368\n",
      "369\n",
      "370\n",
      "371\n",
      "372\n",
      "373\n",
      "376\n",
      "378\n",
      "381\n",
      "382\n",
      "383\n",
      "385\n",
      "386\n",
      "388\n",
      "390\n",
      "391\n",
      "392\n",
      "395\n",
      "396\n",
      "397\n",
      "398\n",
      "400\n",
      "402\n",
      "403\n",
      "405\n",
      "406\n",
      "407\n",
      "409\n",
      "410\n",
      "411\n",
      "412\n",
      "413\n",
      "414\n",
      "415\n",
      "417\n",
      "418\n",
      "421\n",
      "422\n",
      "425\n",
      "426\n",
      "427\n",
      "429\n",
      "433\n",
      "434\n",
      "435\n",
      "437\n",
      "440\n",
      "441\n",
      "442\n",
      "443\n",
      "445\n",
      "448\n",
      "452\n",
      "457\n",
      "460\n",
      "461\n",
      "463\n",
      "466\n",
      "468\n",
      "470\n",
      "473\n",
      "474\n",
      "475\n",
      "480\n",
      "482\n",
      "483\n",
      "484\n",
      "486\n",
      "488\n",
      "490\n",
      "491\n",
      "492\n",
      "493\n",
      "495\n",
      "496\n",
      "497\n",
      "499\n",
      "502\n",
      "503\n",
      "505\n",
      "508\n",
      "509\n",
      "510\n",
      "511\n",
      "512\n",
      "513\n",
      "514\n",
      "515\n",
      "517\n",
      "518\n",
      "519\n",
      "521\n",
      "525\n",
      "528\n",
      "530\n",
      "531\n",
      "532\n",
      "538\n",
      "539\n",
      "540\n",
      "542\n",
      "543\n",
      "544\n",
      "545\n",
      "546\n",
      "551\n",
      "556\n",
      "558\n",
      "561\n",
      "563\n",
      "564\n",
      "565\n",
      "568\n",
      "569\n",
      "570\n",
      "574\n",
      "576\n",
      "578\n",
      "579\n",
      "580\n",
      "583\n",
      "585\n",
      "587\n",
      "593\n",
      "598\n",
      "600\n",
      "601\n",
      "607\n",
      "608\n",
      "612\n",
      "613\n",
      "619\n",
      "620\n",
      "621\n",
      "624\n",
      "625\n",
      "626\n",
      "628\n",
      "632\n",
      "634\n",
      "636\n",
      "637\n",
      "639\n",
      "640\n",
      "641\n",
      "643\n",
      "646\n",
      "648\n",
      "649\n",
      "650\n",
      "651\n",
      "652\n",
      "653\n",
      "656\n",
      "657\n",
      "658\n",
      "659\n",
      "660\n",
      "663\n",
      "665\n",
      "666\n",
      "668\n",
      "671\n",
      "673\n",
      "676\n",
      "677\n",
      "678\n",
      "679\n",
      "680\n",
      "681\n",
      "682\n",
      "684\n",
      "691\n",
      "692\n",
      "693\n",
      "697\n",
      "698\n",
      "699\n",
      "700\n",
      "701\n",
      "704\n",
      "706\n",
      "709\n",
      "713\n",
      "714\n",
      "716\n"
     ]
    }
   ],
   "source": [
    "# See which are 'stop'\n",
    "for idx, y in enumerate(y_test):\n",
    "    if y == 1:\n",
    "        print(idx)"
   ]
  },
  {
   "cell_type": "code",
   "execution_count": 21,
   "metadata": {},
   "outputs": [
    {
     "name": "stdout",
     "output_type": "stream",
     "text": [
      "WARNING:tensorflow:From C:\\Users\\SuSu\\Anaconda3\\envs\\jarvis\\lib\\site-packages\\tensorflow_core\\python\\ops\\init_ops.py:97: calling GlorotUniform.__init__ (from tensorflow.python.ops.init_ops) with dtype is deprecated and will be removed in a future version.\n",
      "Instructions for updating:\n",
      "Call initializer instance with the dtype argument instead of passing it to the constructor\n",
      "WARNING:tensorflow:From C:\\Users\\SuSu\\Anaconda3\\envs\\jarvis\\lib\\site-packages\\tensorflow_core\\python\\ops\\init_ops.py:97: calling Zeros.__init__ (from tensorflow.python.ops.init_ops) with dtype is deprecated and will be removed in a future version.\n",
      "Instructions for updating:\n",
      "Call initializer instance with the dtype argument instead of passing it to the constructor\n",
      "Answer: 1.0  Prediction: [[1.]]\n",
      "Answer: 0.0  Prediction: [[0.00049439]]\n",
      "Answer: 0.0  Prediction: [[5.9458405e-05]]\n",
      "Answer: 0.0  Prediction: [[1.2909099e-07]]\n",
      "Answer: 1.0  Prediction: [[0.9999999]]\n",
      "Answer: 0.0  Prediction: [[1.7517488e-05]]\n",
      "Answer: 0.0  Prediction: [[0.4887876]]\n",
      "Answer: 0.0  Prediction: [[0.]]\n",
      "Answer: 1.0  Prediction: [[0.99999964]]\n",
      "Answer: 0.0  Prediction: [[0.00027354]]\n"
     ]
    }
   ],
   "source": [
    "# TEST: Load model and run it against test set\n",
    "model = models.load_model(model_filename)\n",
    "for i in range(100, 110):\n",
    "    print('Answer:', y_test[i], ' Prediction:', model.predict(np.expand_dims(x_test[i], 0)))"
   ]
  },
  {
   "cell_type": "code",
   "execution_count": 22,
   "metadata": {},
   "outputs": [
    {
     "name": "stdout",
     "output_type": "stream",
     "text": [
      "717/717 [==============================] - 0s 216us/sample - loss: 0.0946 - acc: 0.9693\n"
     ]
    },
    {
     "data": {
      "text/plain": [
       "[0.09462320143707627, 0.9693166]"
      ]
     },
     "execution_count": 22,
     "metadata": {},
     "output_type": "execute_result"
    }
   ],
   "source": [
    "# Evaluate model with test set\n",
    "model.evaluate(x=x_test, y=y_test)"
   ]
  },
  {
   "cell_type": "code",
   "execution_count": 23,
   "metadata": {},
   "outputs": [
    {
     "name": "stderr",
     "output_type": "stream",
     "text": [
      "C:\\Users\\SuSu\\Anaconda3\\envs\\jarvis\\lib\\site-packages\\librosa\\util\\decorators.py:9: NumbaDeprecationWarning: \u001b[1mAn import was requested from a module that has moved location.\n",
      "Import of 'jit' requested from: 'numba.decorators', please update to use 'numba.core.decorators' or pin to Numba version 0.48.0. This alias will not be present in Numba version 0.50.0.\u001b[0m\n",
      "  from numba.decorators import jit as optional_jit\n"
     ]
    }
   ],
   "source": [
    "import librosa"
   ]
  },
  {
   "cell_type": "code",
   "execution_count": 24,
   "metadata": {},
   "outputs": [],
   "source": [
    "testing_path = 'C:\\\\Users\\\\SuSu\\\\Desktop\\\\asr\\\\test'\n",
    "\n",
    "sample_rate = 8000 # .wev file sampled in 16kHz \n",
    "num_mfcc = 16\n",
    "len_mfcc = 16"
   ]
  },
  {
   "cell_type": "code",
   "execution_count": 25,
   "metadata": {},
   "outputs": [],
   "source": [
    "def calc_mfcc(path):\n",
    "    \n",
    "    # Load wavefile\n",
    "    signal, fs = librosa.load(path, sr=sample_rate)\n",
    "    \n",
    "    # Create MFCCs from sound clip\n",
    "    mfccs = python_speech_features.base.mfcc(signal, \n",
    "                                            samplerate=fs,\n",
    "                                            winlen=0.256,\n",
    "                                            winstep=0.050,\n",
    "                                            numcep=num_mfcc,\n",
    "                                            nfilt=26,\n",
    "                                            nfft=2048,\n",
    "                                            preemph=0.0,\n",
    "                                            ceplifter=0,\n",
    "                                            appendEnergy=False,\n",
    "                                            winfunc=np.hanning)\n",
    "    return mfccs.transpose()"
   ]
  },
  {
   "cell_type": "code",
   "execution_count": 26,
   "metadata": {},
   "outputs": [],
   "source": [
    "path = join(testing_path, 'go1.wav')\n",
    "mfccs = calc_mfcc(path)"
   ]
  },
  {
   "cell_type": "code",
   "execution_count": 27,
   "metadata": {},
   "outputs": [
    {
     "name": "stdout",
     "output_type": "stream",
     "text": [
      "MFCCs: [[-7.52295158e+01 -7.12652946e+01 -6.08161838e+01 -5.48067128e+01\n",
      "  -4.02167439e+01 -2.62191424e+01 -1.90794980e+01 -1.71308443e+01\n",
      "  -1.89370278e+01 -2.31422547e+01 -2.98229698e+01 -4.10065361e+01\n",
      "  -5.33042977e+01 -6.20221425e+01 -6.77642870e+01 -7.08637222e+01]\n",
      " [-3.79180304e+00 -6.94106198e+00  4.00380029e+00  1.40394861e+01\n",
      "   1.75159347e+01  1.43986146e+01  1.32886841e+01  1.31133850e+01\n",
      "   1.40807422e+01  1.54733359e+01  1.62612341e+01  1.70390664e+01\n",
      "   1.88141855e+01  1.86796626e+01  1.62847910e+01  1.36864747e+01]\n",
      " [ 1.36011352e+01  1.37731244e+01  1.76005788e+01  1.60181415e+01\n",
      "   3.89179267e+00  2.00460192e+00  2.42846674e+00  3.59003768e+00\n",
      "   5.40793290e+00  7.00828311e+00  8.41150113e+00  9.11327722e+00\n",
      "   7.15240231e+00  6.37964255e+00  6.41489745e+00  6.25991723e+00]\n",
      " [-7.41664407e-01 -8.94320480e-01 -8.97280739e-01 -1.47867132e+00\n",
      "  -2.32963559e+00 -4.15128868e+00 -5.47044142e+00 -6.49428523e+00\n",
      "  -7.06111154e+00 -7.19089735e+00 -7.03191257e+00 -5.86463656e+00\n",
      "  -3.68911206e+00 -4.42470885e+00 -4.36088252e+00 -2.81772852e+00]\n",
      " [ 3.63230104e+00  3.80476919e+00  1.90312969e+00  1.82799168e-01\n",
      "   2.87132962e+00 -1.18252488e-01 -2.39269909e+00 -3.77912097e+00\n",
      "  -4.50120947e+00 -4.42090675e+00 -4.12830642e+00 -3.67400169e+00\n",
      "  -3.67146461e+00 -3.81699207e+00 -3.22215939e+00 -3.04850677e+00]\n",
      " [-2.87751256e-01 -6.14791057e-01 -2.53209173e+00 -3.17274465e+00\n",
      "   9.56460113e-01  8.66551720e-01  1.01822634e+00  1.71605069e+00\n",
      "   2.57673469e+00  2.87418872e+00  2.42284067e+00  1.50837101e+00\n",
      "   7.89081447e-01 -3.18022630e-01 -1.45392066e+00 -1.58638380e+00]\n",
      " [-1.86335941e+00 -3.25502317e+00 -3.42954321e+00 -2.05001650e+00\n",
      "  -4.49458721e+00 -4.50791388e+00 -5.08165911e+00 -5.00676970e+00\n",
      "  -4.53666018e+00 -4.21054589e+00 -3.82702574e+00 -3.94916647e+00\n",
      "  -3.96750518e+00 -3.55253230e+00 -2.78480617e+00 -2.66523071e+00]\n",
      " [-9.03078803e-02 -8.19275455e-01 -3.39697274e-01 -1.91535979e-01\n",
      "  -2.38871604e+00 -1.87829042e+00 -2.05495103e+00 -2.24516154e+00\n",
      "  -2.19345632e+00 -2.01890127e+00 -1.53237278e+00 -1.02310478e+00\n",
      "  -1.32219593e+00 -2.21533280e+00 -2.06816532e+00 -1.39194374e+00]\n",
      " [-2.56785592e-01 -2.98351916e-01 -5.42864274e-01 -3.08200026e-01\n",
      "   1.43917353e+00  2.25539230e+00  1.65633850e+00  9.18608846e-01\n",
      "   3.31616033e-01  3.63851713e-01  6.62531506e-01  1.29131835e+00\n",
      "   1.56324405e+00  9.36961703e-01  5.67671856e-01  8.54755276e-01]\n",
      " [-1.20123512e-01  3.67502822e-02 -7.76616493e-01 -1.16261150e+00\n",
      "   1.88553561e-01  1.16072386e+00  1.08113775e+00  9.02474042e-01\n",
      "   7.75676471e-01  2.85095219e-01 -3.24804089e-01 -4.99665237e-01\n",
      "  -2.44666638e-01  1.95440446e-01  1.31295825e+00  2.13130247e+00]\n",
      " [ 5.77042513e-01  6.86689321e-01 -1.00045287e-01 -2.75428794e-01\n",
      "   3.58671171e-01 -5.80827683e-01 -1.31567673e+00 -9.42980495e-01\n",
      "   2.45668103e-01  1.03267610e+00  1.43862364e+00  1.18263241e+00\n",
      "   3.81960970e-01  3.77662508e-01  3.88109981e-01  6.69578051e-01]\n",
      " [-1.44980107e+00 -1.60050969e+00 -2.05655203e+00 -1.13404088e+00\n",
      "  -1.21268892e+00 -1.17263930e+00 -1.76061636e+00 -1.77541627e+00\n",
      "  -1.03009720e+00 -4.13031530e-01 -1.44499113e-01 -1.42868444e-01\n",
      "  -1.96959791e-01 -8.04292868e-01 -1.12938426e+00 -8.77537535e-01]\n",
      " [-7.16865414e-01  4.44122197e-02  1.37937501e-01 -7.68723851e-01\n",
      "  -2.12120182e+00 -3.19629533e+00 -4.10701367e+00 -4.32923409e+00\n",
      "  -3.93798877e+00 -2.93756879e+00 -2.51429350e+00 -2.38995807e+00\n",
      "  -2.43264700e+00 -1.84290033e+00 -1.48803821e+00 -1.46452371e+00]\n",
      " [-3.33068507e-01  3.80974195e-01  8.43744809e-01 -1.06352902e-01\n",
      "   4.35958743e-01  5.13902117e-01  9.42791935e-02 -3.38373787e-01\n",
      "  -6.70897494e-01 -8.95140135e-01 -8.76934728e-01 -1.05938495e+00\n",
      "  -4.02206260e-01  4.04439727e-02 -4.03743785e-01 -1.24549595e-01]\n",
      " [-1.41601761e+00 -2.21938100e+00 -2.10110426e+00 -1.31226944e+00\n",
      "  -1.35113693e+00 -9.60303073e-01 -9.11709405e-01 -1.11100814e+00\n",
      "  -1.27297714e+00 -1.60344653e+00 -1.59730288e+00 -1.69101424e+00\n",
      "  -1.27940053e+00 -9.00457180e-01 -2.98640510e-01  2.86455941e-01]\n",
      " [ 1.15040073e-01 -4.86570756e-01 -1.07836747e+00 -1.61917155e+00\n",
      "  -1.56724790e+00 -1.78000717e+00 -1.91462742e+00 -1.82452069e+00\n",
      "  -1.52563909e+00 -1.30459215e+00 -1.22300604e+00 -1.49794571e+00\n",
      "  -1.12431506e+00 -5.68195414e-01 -2.59962710e-01  3.64773639e-01]]\n"
     ]
    },
    {
     "data": {
      "text/plain": [
       "<matplotlib.image.AxesImage at 0x2032fc97b00>"
      ]
     },
     "execution_count": 27,
     "metadata": {},
     "output_type": "execute_result"
    },
    {
     "data": {
      "image/png": "[encoded data removed]",
      "text/plain": [
       "<Figure size 432x288 with 1 Axes>"
      ]
     },
     "metadata": {
      "needs_background": "light"
     },
     "output_type": "display_data"
    }
   ],
   "source": [
    "print(\"MFCCs:\", mfccs)\n",
    "\n",
    "# Plot MFCC\n",
    "fig = plt.figure()\n",
    "plt.imshow(mfccs, cmap='inferno', origin='lower')"
   ]
  },
  {
   "cell_type": "code",
   "execution_count": 28,
   "metadata": {},
   "outputs": [
    {
     "name": "stdout",
     "output_type": "stream",
     "text": [
      "(16, 16)\n",
      "(16, 16, 1)\n"
     ]
    }
   ],
   "source": [
    "print(mfccs.shape)\n",
    "\n",
    "mfccs = mfccs.reshape(mfccs.shape[0], \n",
    "                      mfccs.shape[1],  \n",
    "                      1)\n",
    "\n",
    "print(mfccs.shape)"
   ]
  },
  {
   "cell_type": "code",
   "execution_count": 29,
   "metadata": {},
   "outputs": [],
   "source": [
    "#model_out = model.predict(mfccs) \n",
    "out = model.predict(np.expand_dims(mfccs, 0))"
   ]
  },
  {
   "cell_type": "code",
   "execution_count": 31,
   "metadata": {},
   "outputs": [
    {
     "name": "stdout",
     "output_type": "stream",
     "text": [
      "[[2.32926e-07]]\n",
      "1.15.0\n"
     ]
    }
   ],
   "source": [
    "print(out)\n",
    "print(tf.__version__)"
   ]
  },
  {
   "cell_type": "code",
   "execution_count": 33,
   "metadata": {},
   "outputs": [],
   "source": [
    "if out > 0.5:\n",
    "    value = 'stop'\n",
    "else:\n",
    "    value = 'go'"
   ]
  },
  {
   "cell_type": "code",
   "execution_count": 88,
   "metadata": {},
   "outputs": [
    {
     "name": "stdout",
     "output_type": "stream",
     "text": [
      "go\n"
     ]
    }
   ],
   "source": [
    "print(value)"
   ]
  },
  {
   "cell_type": "code",
   "execution_count": null,
   "metadata": {},
   "outputs": [],
   "source": []
  }
 ],
 "metadata": {
  "kernelspec": {
   "display_name": "Python 3",
   "language": "python",
   "name": "python3"
  },
  "language_info": {
   "codemirror_mode": {
    "name": "ipython",
    "version": 3
   },
   "file_extension": ".py",
   "mimetype": "text/x-python",
   "name": "python",
   "nbconvert_exporter": "python",
   "pygments_lexer": "ipython3",
   "version": "3.6.10"
  }
 },
 "nbformat": 4,
 "nbformat_minor": 2
}
